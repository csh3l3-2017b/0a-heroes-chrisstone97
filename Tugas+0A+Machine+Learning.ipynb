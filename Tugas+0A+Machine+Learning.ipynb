{
 "cells": [
  {
   "cell_type": "markdown",
   "metadata": {},
   "source": [
    "Tugas 0A Machine Learning\n",
    "Edyt Daryfayi Putra Daulay\n",
    "1301154408\n",
    "IF-39-02"
   ]
  },
  {
   "cell_type": "code",
   "execution_count": 1,
   "metadata": {
    "collapsed": true
   },
   "outputs": [],
   "source": [
    "import pandas as pd"
   ]
  },
  {
   "cell_type": "code",
   "execution_count": 3,
   "metadata": {},
   "outputs": [],
   "source": [
    "hero = pd.read_csv(\"C:/Users/Ryan/Downloads/test.csv\")"
   ]
  },
  {
   "cell_type": "markdown",
   "metadata": {},
   "source": [
    "file test.csv akan dipanggil dan dibaca isinya"
   ]
  },
  {
   "cell_type": "markdown",
   "metadata": {},
   "source": [
    "Heroes yang memiliki movementSpeed >= 270, akan mendapat peran sebagai MARKSMAN\n",
    "Heroes dengan mana >= 500, akan mendapat peran sebagai MAGE \n",
    "Heroes dengan armor >= 25, akan mendapat peran sebagai TANK \n",
    "Heroes dengan physicalAttack >= 121, akan mendapat peran sebagai ASSASSIN \n",
    "Heroes dengan hp >= 2580, akan mendapat peran sebagai FIGHTER \n",
    "Heroes lainnya akan mendapat peran sebagai SUPPORT"
   ]
  },
  {
   "cell_type": "code",
   "execution_count": 7,
   "metadata": {},
   "outputs": [],
   "source": [
    "role = []\n",
    "for x in range(len(hero)):\n",
    "    if hero[\"movementSpeed\"][x] >= 270:\n",
    "        role.append(\"MARKSMAN\")\n",
    "    elif hero[\"mana\"][x] >= 500:\n",
    "        role.append(\"MAGE\")\n",
    "    elif hero[\"armor\"][x] >= 25:\n",
    "        role.append(\"TANK\")\n",
    "    elif hero[\"physicalAttack\"][x] >= 121:\n",
    "        role.append(\"ASSASSIN\")\n",
    "    elif hero[\"hp\"][x] >= 2580:\n",
    "        role.append(\"FIGHTER\")\n",
    "    else:\n",
    "        role.append(\"SUPPORT\")"
   ]
  },
  {
   "cell_type": "code",
   "execution_count": 10,
   "metadata": {},
   "outputs": [],
   "source": [
    "hasil = pd.DataFrame({\"name\" : hero[\"name\"],\n",
    "                      \"role\" : role})"
   ]
  },
  {
   "cell_type": "markdown",
   "metadata": {},
   "source": [
    "hasil klasifikasi role tersebut akan disimpan ke file csv baru bernama prediction.csv"
   ]
  },
  {
   "cell_type": "code",
   "execution_count": 11,
   "metadata": {
    "collapsed": true
   },
   "outputs": [],
   "source": [
    "hasil.to_csv(\"prediction.csv\", index = False)"
   ]
  },
  {
   "cell_type": "code",
   "execution_count": null,
   "metadata": {
    "collapsed": true
   },
   "outputs": [],
   "source": []
  }
 ],
 "metadata": {
  "kernelspec": {
   "display_name": "Python 3",
   "language": "python",
   "name": "python3"
  },
  "language_info": {
   "codemirror_mode": {
    "name": "ipython",
    "version": 3
   },
   "file_extension": ".py",
   "mimetype": "text/x-python",
   "name": "python",
   "nbconvert_exporter": "python",
   "pygments_lexer": "ipython3",
   "version": "3.6.3"
  }
 },
 "nbformat": 4,
 "nbformat_minor": 2
}
